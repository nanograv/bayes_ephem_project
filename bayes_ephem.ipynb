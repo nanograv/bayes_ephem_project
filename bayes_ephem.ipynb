{
 "cells": [
  {
   "cell_type": "code",
   "execution_count": null,
   "metadata": {
    "ExecuteTime": {
     "end_time": "2018-01-29T00:35:42.025630Z",
     "start_time": "2018-01-29T00:35:41.614265Z"
    }
   },
   "outputs": [],
   "source": [
    "%matplotlib inline\n",
    "%config InlineBackend.figure_format = 'retina'\n",
    "%load_ext autoreload\n",
    "%autoreload 2\n",
    "\n",
    "from __future__ import division\n",
    "import matplotlib\n",
    "import matplotlib.pyplot as plt\n",
    "from matplotlib.ticker import NullFormatter\n",
    "matplotlib.rcParams['figure.dpi'] = 2.5 * matplotlib.rcParams['figure.dpi']\n",
    "\n",
    "import numpy as np\n",
    "import scipy.constants as sc\n",
    "import math, sys, os, glob, h5py\n",
    "\n",
    "import libstempo as T2\n",
    "\n",
    "try:\n",
    "    from IPython.display import clear_output\n",
    "    have_ipython = True\n",
    "except ImportError:\n",
    "    have_ipython = False"
   ]
  },
  {
   "cell_type": "code",
   "execution_count": null,
   "metadata": {
    "ExecuteTime": {
     "end_time": "2018-01-29T00:35:42.386835Z",
     "start_time": "2018-01-29T00:35:42.355808Z"
    },
    "collapsed": true
   },
   "outputs": [],
   "source": [
    "def figsize(scale):\n",
    "    fig_width_pt = 513.17 #469.755                  # Get this from LaTeX using \\the\\textwidth\n",
    "    inches_per_pt = 1.0/72.27                       # Convert pt to inch\n",
    "    golden_mean = (np.sqrt(5.0)-1.0)/2.0            # Aesthetic ratio (you could change this)\n",
    "    fig_width = fig_width_pt*inches_per_pt*scale    # width in inches\n",
    "    fig_height = fig_width*golden_mean              # height in inches\n",
    "    fig_size = [fig_width,fig_height]\n",
    "    return fig_size\n",
    "\n",
    "#plt.rcParams.update(plt.rcParamsDefault)\n",
    "params = {'backend': 'pdf',\n",
    "        'axes.labelsize': 10,\n",
    "        'lines.markersize': 4,\n",
    "        'font.size': 10,\n",
    "        'xtick.major.size':6,\n",
    "        'xtick.minor.size':3,  \n",
    "        'ytick.major.size':6,\n",
    "        'ytick.minor.size':3, \n",
    "        'xtick.major.width':0.5,\n",
    "        'ytick.major.width':0.5,\n",
    "        'xtick.minor.width':0.5,\n",
    "        'ytick.minor.width':0.5,\n",
    "        'lines.markeredgewidth':1,\n",
    "        'axes.linewidth':1.2,\n",
    "        'legend.fontsize': 7,\n",
    "        'xtick.labelsize': 10,\n",
    "        'ytick.labelsize': 10,\n",
    "        'savefig.dpi':200,\n",
    "        'path.simplify':True,\n",
    "        'font.family': 'serif',\n",
    "        'font.serif':'Times',\n",
    "        'text.latex.preamble': [r'\\usepackage{amsmath}',r'\\usepackage{amsbsy}',\n",
    "                                r'\\DeclareMathAlphabet{\\mathcal}{OMS}{cmsy}{m}{n}'],\n",
    "        'text.usetex':True,\n",
    "        'figure.figsize': figsize(0.5)}\n",
    "plt.rcParams.update(params)"
   ]
  },
  {
   "cell_type": "markdown",
   "metadata": {},
   "source": [
    "# Reading in BayesEphem analysis chains"
   ]
  },
  {
   "cell_type": "code",
   "execution_count": null,
   "metadata": {
    "ExecuteTime": {
     "end_time": "2018-01-28T22:28:06.547534Z",
     "start_time": "2018-01-28T22:28:06.528088Z"
    },
    "collapsed": true
   },
   "outputs": [],
   "source": [
    "# Chains are already burnt-in, but you may want to burn-in another 5e4 samples\n",
    "chains = np.load('./data/bayes_ephem_posteriors.npz')"
   ]
  },
  {
   "cell_type": "code",
   "execution_count": null,
   "metadata": {
    "ExecuteTime": {
     "end_time": "2018-01-28T22:32:26.606438Z",
     "start_time": "2018-01-28T22:32:23.256571Z"
    }
   },
   "outputs": [],
   "source": [
    "chains = dict(chains)"
   ]
  },
  {
   "cell_type": "code",
   "execution_count": null,
   "metadata": {
    "ExecuteTime": {
     "end_time": "2018-01-28T22:34:18.589521Z",
     "start_time": "2018-01-28T22:34:18.566881Z"
    }
   },
   "outputs": [],
   "source": [
    "chains.keys()"
   ]
  },
  {
   "cell_type": "code",
   "execution_count": null,
   "metadata": {
    "ExecuteTime": {
     "end_time": "2018-01-28T22:39:00.758437Z",
     "start_time": "2018-01-28T22:39:00.125590Z"
    }
   },
   "outputs": [],
   "source": [
    "fig,ax = plt.subplots()\n",
    "\n",
    "colors= ['C0', 'C1', 'C2', 'C3']\n",
    "labels = [ii.split('chain_')[1:][0] for ii in chains.keys()]\n",
    "\n",
    "for ii,key in enumerate(chains):\n",
    "    n, _, _ = plt.hist(chains[key][:,68], bins=40, histtype='step', \n",
    "               normed=True, label=labels[ii].replace('_', ' '), color=colors[ii])\n",
    "    print chains[key].shape\n",
    "        \n",
    "plt.legend(loc='upper left',frameon=False,ncol=2)\n",
    "plt.xlabel(r'$\\log_{10}A_\\mathrm{GWB}$')\n",
    "plt.ylabel(r'PDF')\n",
    "plt.yscale('log')\n",
    "plt.ylim(1e-3,5.0)\n",
    "plt.xlim(-18.0,-14.0)\n",
    "plt.minorticks_on()\n",
    "plt.tick_params(which='both',direction='in')\n",
    "plt.show()"
   ]
  },
  {
   "cell_type": "markdown",
   "metadata": {},
   "source": [
    "## Analyze BayesEphem model parameters"
   ]
  },
  {
   "cell_type": "code",
   "execution_count": null,
   "metadata": {
    "collapsed": true
   },
   "outputs": [],
   "source": [
    "# Parameter indices 69 to 79 are BayesEphem parameters\n",
    "# 69 = Frame drift-rate\n",
    "# 70 = Jupiter mass perturbation\n",
    "# 71 = Saturn mass perturbation\n",
    "# 72 = Uranus mass perturbation\n",
    "# 73 = Neptune mass perturbation\n",
    "# 74 = Jupiter orbit (PCA basis weight 1)\n",
    "# 75 = Jupiter orbit (PCA basis weight 2)\n",
    "# 76 = Jupiter orbit (PCA basis weight 3)\n",
    "# 77 = Jupiter orbit (PCA basis weight 4)\n",
    "# 78 = Jupiter orbit (PCA basis weight 5)\n",
    "# 79 = Jupiter orbit (PCA basis weight 6)"
   ]
  },
  {
   "cell_type": "code",
   "execution_count": null,
   "metadata": {
    "collapsed": true
   },
   "outputs": [],
   "source": [
    "# Conversion between PCA basis and physical-parameter basis\n",
    "M = np.array([[  6.53860873e+04,   9.49761902e+04,   1.21450042e+03,\n",
    "         -1.77200265e+03,  -6.22949977e+02,  -7.47925821e+02],\n",
    "       [ -7.75621399e+02,  -1.17021057e+03,   5.90675833e+01,\n",
    "         -7.98177856e+04,   1.26269526e+02,  -2.71788472e+04],\n",
    "       [  1.11908717e+03,  -5.65791141e+02,   3.35238820e+02,\n",
    "         -2.17333137e+04,  -1.57642596e+02,   7.72428458e+04],\n",
    "       [  1.85720158e+04,   1.86472597e+04,   3.65546134e+04,\n",
    "         -5.74076339e+01,   1.63357930e+05,  -1.52072786e+01],\n",
    "       [ -2.21951581e+06,  -3.03054942e+06,  -2.04049224e+05,\n",
    "          5.73677705e+04,  -3.08179452e+04,   2.63676877e+04],\n",
    "       [  5.65210209e+01,   1.27036237e+04,  -1.72763570e+05,\n",
    "         -3.59982642e+02,   3.04507609e+04,   4.62868757e+02]])"
   ]
  },
  {
   "cell_type": "code",
   "execution_count": null,
   "metadata": {
    "collapsed": true
   },
   "outputs": [],
   "source": [
    "Minv = scipy.linalg.inv(M)"
   ]
  },
  {
   "cell_type": "code",
   "execution_count": null,
   "metadata": {
    "collapsed": true
   },
   "outputs": [],
   "source": [
    "# Code snippet to convert to physical-parameter basis\n",
    "\n",
    "#chain_de435_noprior_phys = np.dot(Minv,chain_de435_noprior[int(5e4):,74:80].T).T\n",
    "#chain_de436_noprior_phys = np.dot(Minv,chain_de436_noprior[int(5e4):,74:80].T).T\n",
    "#chain_de435_prior_phys = np.dot(Minv,chain_de435[int(5e4):,74:80].T).T\n",
    "#chain_de436_prior_phys = np.dot(Minv,chain_de436[int(5e4):,74:80].T).T"
   ]
  },
  {
   "cell_type": "markdown",
   "metadata": {},
   "source": [
    "# BayesEphem functions"
   ]
  },
  {
   "cell_type": "code",
   "execution_count": null,
   "metadata": {
    "ExecuteTime": {
     "end_time": "2018-01-28T22:46:04.773105Z",
     "start_time": "2018-01-28T22:46:04.569555Z"
    }
   },
   "outputs": [],
   "source": [
    "day = 24 * 3600\n",
    "year = 365.25 * day\n",
    "\n",
    "SOLAR2S = sc.G / sc.c**3 * 1.98855e30\n",
    "KPC2S = sc.parsec / sc.c * 1e3\n",
    "MPC2S = sc.parsec / sc.c * 1e6\n",
    "\n",
    "e_ecl = 23.43704 * np.pi / 180.0\n",
    "M_ecl = np.array([[1.0, 0.0, 0.0],\n",
    "                  [0.0, np.cos(e_ecl), -np.sin(e_ecl)],\n",
    "                  [0.0, np.sin(e_ecl), np.cos(e_ecl)]])\n",
    "\n",
    "\n",
    "def ecl2eq_vec(x):\n",
    "    \"\"\"\n",
    "    Rotate (n,3) vector time series from ecliptic to equatorial.\n",
    "    \"\"\"\n",
    "\n",
    "    return np.einsum('jk,ik->ij',M_ecl,x)\n",
    "\n",
    "\n",
    "def eq2ecl_vec(x):\n",
    "    \"\"\"\n",
    "    Rotate (n,3) vector time series from equatorial to ecliptic.\n",
    "    \"\"\"\n",
    "\n",
    "    return np.einsum('kj,ik->ij',M_ecl,x)\n",
    "\n",
    "\n",
    "def euler_vec(z, y, x, n):\n",
    "    \"\"\"\n",
    "    Return (n,3,3) tensor with each (3,3) block containing an\n",
    "    Euler rotation with angles z, y, x. Optionally each of z, y, x\n",
    "    can be a vector of length n.\n",
    "    \"\"\"\n",
    "\n",
    "    L = np.zeros((n,3,3),'d')\n",
    "    cosx, sinx = np.cos(x), np.sin(x)\n",
    "    L[:,0,0] = 1\n",
    "    L[:,1,1] = L[:,2,2] = cosx\n",
    "    L[:,1,2] = -sinx; L[:,2,1] = sinx\n",
    "\n",
    "    N = np.zeros((n,3,3),'d')\n",
    "    cosy, siny = np.cos(y), np.sin(y)\n",
    "    N[:,0,0] = N[:,2,2] = cosy\n",
    "    N[:,1,1] = 1\n",
    "    N[:,0,2] = siny; N[:,2,0] = -siny\n",
    "\n",
    "    ret = np.einsum('ijk,ikl->ijl',L,N)\n",
    "\n",
    "    M = np.zeros((n,3,3),'d')\n",
    "    cosz, sinz = np.cos(z), np.sin(z)\n",
    "    M[:,0,0] = M[:,1,1] = cosz\n",
    "    M[:,0,1] = -sinz; M[:,1,0] = sinz\n",
    "    M[:,2,2] = 1\n",
    "\n",
    "    ret = np.einsum('ijk,ikl->ijl',ret,M)\n",
    "\n",
    "    return ret\n",
    "\n",
    "\n",
    "t_offset = 55197.0\n",
    "\n",
    "\n",
    "def ss_framerotate(mjd, planet, x, y, z, dz,\n",
    "                   offset=None, equatorial=False):\n",
    "    \"\"\"\n",
    "    Rotate planet trajectory given as (n,3) tensor,\n",
    "    by ecliptic Euler angles x, y, z, and by z rate\n",
    "    dz. The rate has units of deg/year, and is referred\n",
    "    to offset 2010/1/1. dates must be given in MJD.\n",
    "    \"\"\"\n",
    "\n",
    "    if equatorial:\n",
    "        planet = eq2ecl_vec(planet)\n",
    "\n",
    "    E = euler_vec(z + dz * (mjd - t_offset) / 365.25, y, x,\n",
    "                  planet.shape[0])\n",
    "\n",
    "    planet = np.einsum('ijk,ik->ij',E,planet)\n",
    "\n",
    "    if offset is not None:\n",
    "        planet = np.array(offset) + planet\n",
    "\n",
    "    if equatorial:\n",
    "        planet = ecl2eq_vec(planet)\n",
    "\n",
    "    return planet\n",
    "\n",
    "\n",
    "def dmass(earth, planet, dm_over_Msun):\n",
    "    return earth + dm_over_Msun * planet\n",
    "\n",
    "\n",
    "def dorbit(mjd, earth, planet, x, y, z, dz, m_over_Msun):\n",
    "    E = euler_vec(z + dz * (mjd - t_offset) / 365.25 ,y, x,\n",
    "                  planet.shape[0])\n",
    "\n",
    "    dplanet = np.einsum('ijk,ik->ij',E,planet) - planet\n",
    "\n",
    "    return earth + m_over_Msun * dplanet\n",
    "\n",
    "\n",
    "def ssephem_physical_model(x, mjd, earth, jupiter, saturn,\n",
    "                           uranus, neptune,\n",
    "                           incJuporb=False, jup_orbmodel='orbelements', jup_orbelxyz=None, jup_mjd=None,\n",
    "                           incSatorb=False, sat_orbmodel='orbelements', sat_orbelxyz=None, sat_mjd=None,\n",
    "                           equatorial=True):\n",
    "    # model with argument x, see below for priors.\n",
    "    # Feed it the TOA vector (size n) and Earth-to-SSB, Jupiter-to-SSB, etc.\n",
    "    # (n,3) arrays. Set equatorial=True or False depending on the tempo2\n",
    "    # coordinate frame, which matches the par-file coordinates.\n",
    "    ct = 0\n",
    "\n",
    "    # frame rotation (three angles, a rate, and an absolute offset)\n",
    "    # use priors 1e-9, 5e-9, 5e-7, 1e-10, 1e-8, 5e-9, 1e-10\n",
    "    # (based on systematic comparisons between ephemerides)\n",
    "    earth = ss_framerotate(mjd, earth, 0.0, 0.0, 0.0, x[ct],\n",
    "                           offset=None, equatorial=equatorial)\n",
    "    ct += 1\n",
    "\n",
    "    # jupiter\n",
    "    earth = dmass(earth,jupiter,x[ct])\n",
    "    ct += 1\n",
    "\n",
    "    # saturn\n",
    "    earth = dmass(earth,saturn,x[ct])\n",
    "    ct += 1\n",
    "\n",
    "    # uranus - uncertainty 3e-11, use twice that for prior (DE430-435 fit likes 6e-11)\n",
    "    earth = dmass(earth,uranus,x[ct])\n",
    "    ct += 1\n",
    "\n",
    "    # neptune - uncertainty 8e-11, use twice that for prior (DE421-430 fit likes 6e-11 also)\n",
    "    earth = dmass(earth,neptune,x[ct])\n",
    "    ct += 1\n",
    "\n",
    "    # Jupiter\n",
    "    if incJuporb:\n",
    "        if jup_orbmodel == 'angles':\n",
    "            # rotate Jupiter (use 2e-8 prior for the three angles; no rate)\n",
    "            earth = dorbit(mjd, earth, jupiter,\n",
    "                           x[ct], x[ct+1], x[ct+2],\n",
    "                           0.0, 0.0009547918983127075)\n",
    "            ct += 3\n",
    "        elif jup_orbmodel == 'orbelements':\n",
    "            # perturb Jupiter's orbital elements with SVD partial design matrix\n",
    "            jup_perturb_tmp = 0.0009547918983127075 * np.einsum('i,ijk->jk',\n",
    "                                                                x[ct:ct+6],jup_orbelxyz)\n",
    "            earth += np.array([np.interp(mjd, jup_mjd, jup_perturb_tmp[:,aa])\n",
    "                               for aa in range(3)]).T\n",
    "            ct += 6\n",
    "\n",
    "    # Saturn\n",
    "    if incSatorb:\n",
    "        if sat_orbmodel == 'angles':\n",
    "            # rotate Saturn (use 2e-8 prior for the three angles; no rate)\n",
    "            earth = dorbit(mjd, earth, saturn,\n",
    "                           x[ct], x[ct+1], x[ct+2],\n",
    "                           0.0, 0.00028588567008942334)\n",
    "            ct += 3\n",
    "        if sat_orbmodel == 'orbelements':\n",
    "            # perturb Saturn's orbital elements with SVD partial design matrix\n",
    "            sat_perturb_tmp = 0.00028588567008942334 * np.einsum('i,ijk->jk',\n",
    "                                                                x[ct:ct+6],sat_orbelxyz)\n",
    "            earth += np.array([np.interp(mjd, sat_mjd, sat_perturb_tmp[:,aa])\n",
    "                               for aa in range(3)]).T\n",
    "            ct += 6\n",
    "\n",
    "\n",
    "    return earth"
   ]
  },
  {
   "cell_type": "markdown",
   "metadata": {},
   "source": [
    "# BayesEphem partials"
   ]
  },
  {
   "cell_type": "code",
   "execution_count": null,
   "metadata": {
    "ExecuteTime": {
     "end_time": "2018-01-28T23:00:12.911833Z",
     "start_time": "2018-01-28T23:00:12.890017Z"
    },
    "collapsed": true
   },
   "outputs": [],
   "source": [
    "jup_mjd = np.load('./data/jupiter_orbitpartials/jupiter-orbel-mjd.npy')\n",
    "jup_orbelxyz = np.load('./data/jupiter_orbitpartials/jupiter-orbel-xyz-svd.npy')\n",
    "\n",
    "sat_mjd = np.load('./data/saturn_orbitpartials/saturn-orbel-mjd.npy')\n",
    "sat_orbelxyz = np.load('./data/saturn_orbitpartials/saturn-orbel-xyz-svd.npy')"
   ]
  },
  {
   "cell_type": "markdown",
   "metadata": {},
   "source": [
    "# Pulsar class"
   ]
  },
  {
   "cell_type": "code",
   "execution_count": null,
   "metadata": {
    "ExecuteTime": {
     "end_time": "2018-01-29T00:47:37.438226Z",
     "start_time": "2018-01-29T00:47:37.333266Z"
    }
   },
   "outputs": [],
   "source": [
    "class process_pulsar(object):\n",
    "    \n",
    "    def __init__(self, t2obj):\n",
    "        \n",
    "        self.T2psr = t2obj\n",
    "        self.toas = np.double(self.T2psr.toas())\n",
    "        self.res = np.double(self.T2psr.residuals())\n",
    "        \n",
    "        self.psrPos = self.T2psr.psrPos\n",
    "        if 'ELONG' and 'ELAT' in self.T2psr.pars():\n",
    "            # converting to equatorial\n",
    "            print \"--> Converting pulsar position time-series to equatorial\"\n",
    "            self.psrPos = utils.ecl2eq_vec(self.psrPos)\n",
    "\n",
    "        # getting ephemeris properties\n",
    "        self.ephemeris = self.T2psr.ephemeris\n",
    "        if '436' in self.T2psr.ephemeris:\n",
    "            self.ephemname = 'DE436'\n",
    "        elif '435' in self.T2psr.ephemeris:\n",
    "            self.ephemname = 'DE435'\n",
    "        elif '430' in self.T2psr.ephemeris:\n",
    "            self.ephemname = 'DE430'\n",
    "        elif '421' in self.T2psr.ephemeris:\n",
    "            self.ephemname = 'DE421'\n",
    "        elif '418' in self.T2psr.ephemeris:\n",
    "            self.ephemname = 'DE418'\n",
    "\n",
    "        # populating roemer-delay dictionary\n",
    "        self.roemer = OrderedDict()\n",
    "        self.roemer[self.ephemname] = np.double(self.T2psr.roemer)\n",
    "\n",
    "        # Planet position vectors will initially\n",
    "        # be in coordinate system of .par file\n",
    "        for ii in range(1,10):\n",
    "            tag = 'DMASSPLANET'+str(ii)\n",
    "            self.T2psr[tag].val = 0.0\n",
    "        self.T2psr.formbats()\n",
    "        self.planet_ssb = OrderedDict.fromkeys([self.ephemname])\n",
    "        self.planet_ssb[self.ephemname] = np.zeros((len(self.T2psr.toas()),9,6))\n",
    "        self.planet_ssb[self.ephemname][:,0,:] = self.T2psr.mercury_ssb\n",
    "        self.planet_ssb[self.ephemname][:,1,:] = self.T2psr.venus_ssb\n",
    "        self.planet_ssb[self.ephemname][:,2,:] = self.T2psr.earth_ssb\n",
    "        self.planet_ssb[self.ephemname][:,3,:] = self.T2psr.mars_ssb\n",
    "        self.planet_ssb[self.ephemname][:,4,:] = self.T2psr.jupiter_ssb\n",
    "        self.planet_ssb[self.ephemname][:,5,:] = self.T2psr.saturn_ssb\n",
    "        self.planet_ssb[self.ephemname][:,6,:] = self.T2psr.uranus_ssb\n",
    "        self.planet_ssb[self.ephemname][:,7,:] = self.T2psr.neptune_ssb\n",
    "        self.planet_ssb[self.ephemname][:,8,:] = self.T2psr.pluto_ssb\n",
    "\n",
    "        if 'ELONG' and 'ELAT' in self.T2psr.pars():\n",
    "            # Converting to equatorial if necessary\n",
    "            print \"--> Converting planet position time-series to equatorial\"\n",
    "            for ii in range(9):\n",
    "                # position\n",
    "                self.planet_ssb[self.ephemname][:,ii,:3] = \\\n",
    "                    utils.ecl2eq_vec(self.planet_ssb[self.ephemname][:,ii,:3])\n",
    "                # velocity\n",
    "                self.planet_ssb[self.ephemname][:,ii,3:] = \\\n",
    "                    utils.ecl2eq_vec(self.planet_ssb[self.ephemname][:,ii,3:])\n",
    "\n",
    "        # get the sky position\n",
    "        # check for B name\n",
    "        if 'B' in self.T2psr.name:\n",
    "            epoch = '1950'\n",
    "        else:\n",
    "            epoch = '2000'\n",
    "        if 'RAJ' and 'DECJ' in self.T2psr.pars(which='set'):\n",
    "            self.raj = np.double(self.T2psr['RAJ'].val)\n",
    "            self.decj = np.double(self.T2psr['DECJ'].val)\n",
    "\n",
    "            self.psr_locs = [self.raj, self.decj]\n",
    "\n",
    "            eq = ephem.Equatorial(self.T2psr['RAJ'].val,\n",
    "                                  self.T2psr['DECJ'].val)\n",
    "            ec = ephem.Ecliptic(eq, epoch=epoch)\n",
    "            self.elong = np.double(ec.lon)\n",
    "            self.elat = np.double(ec.lat)\n",
    "\n",
    "        elif 'ELONG' and 'ELAT' in self.T2psr.pars(which='set'):\n",
    "            self.elong = np.double(self.T2psr['ELONG'].val)\n",
    "            self.elat = np.double(self.T2psr['ELAT'].val)\n",
    "\n",
    "            ec = ephem.Ecliptic(self.elong, self.elat)\n",
    "            eq = ephem.Equatorial(ec, epoch=epoch)\n",
    "            self.raj = np.double(eq.ra)\n",
    "            self.decj = np.double(eq.dec)\n",
    "\n",
    "            self.psr_locs = [self.raj, self.decj]"
   ]
  },
  {
   "cell_type": "markdown",
   "metadata": {},
   "source": [
    "# Now calculate BayesEphem"
   ]
  },
  {
   "cell_type": "code",
   "execution_count": null,
   "metadata": {
    "collapsed": true
   },
   "outputs": [],
   "source": [
    "# Fill in these options\n",
    "\n",
    "parfile = ...\n",
    "timfile = ...\n",
    "ephemeris = 'DE436'"
   ]
  },
  {
   "cell_type": "code",
   "execution_count": null,
   "metadata": {
    "collapsed": true
   },
   "outputs": [],
   "source": [
    "# Read in via libstempo\n",
    "t2psr = T2.tempopulsar(parfile = parfile, timfile = timfile, \n",
    "                       maxobs=30000, ephem=ephemeris)"
   ]
  },
  {
   "cell_type": "code",
   "execution_count": null,
   "metadata": {
    "collapsed": true
   },
   "outputs": [],
   "source": [
    "psr = process_pulsar(t2psr)"
   ]
  },
  {
   "cell_type": "code",
   "execution_count": null,
   "metadata": {
    "collapsed": true
   },
   "outputs": [],
   "source": [
    "# first, construct the true geocenter to barycenter roemer\n",
    "old_roemer = np.einsum('ij,ij->i', psr.planet_ssb[psr.ephemname][:,2,:3], psr.psrPos)\n",
    "\n",
    "# now construct perturbation from physical model\n",
    "tmp_earth = ssephem_physical_model(eph_physmodel_params, psr.toas,\n",
    "                                   psr.planet_ssb[p.ephemname][:,2,:3], # earth\n",
    "                                   psr.planet_ssb[p.ephemname][:,4,:3], # jupiter\n",
    "                                   psr.planet_ssb[p.ephemname][:,5,:3], # saturn\n",
    "                                   psr.planet_ssb[p.ephemname][:,6,:3], # uranus\n",
    "                                   psr.planet_ssb[p.ephemname][:,7,:3], # neptune\n",
    "                                   args.incJuporb, args.jup_orbmodel, jup_orbelxyz, jup_mjd,\n",
    "                                   args.incSatorb, args.sat_orbmodel, sat_orbelxyz, sat_mjd,\n",
    "                                   equatorial=True)\n",
    "new_roemer = np.einsum('ij,ij->i', tmp_earth, psr.psrPos)\n",
    "\n",
    "# subtract off old roemer, add in new one\n",
    "#detres = psr.res\n",
    "#detres -= old_roemer\n",
    "#detres += new_roemer"
   ]
  }
 ],
 "metadata": {
  "kernelspec": {
   "display_name": "Python 2",
   "language": "python",
   "name": "python2"
  },
  "language_info": {
   "codemirror_mode": {
    "name": "ipython",
    "version": 2
   },
   "file_extension": ".py",
   "mimetype": "text/x-python",
   "name": "python",
   "nbconvert_exporter": "python",
   "pygments_lexer": "ipython2",
   "version": "2.7.13"
  },
  "toc": {
   "nav_menu": {},
   "number_sections": true,
   "sideBar": true,
   "skip_h1_title": false,
   "toc_cell": false,
   "toc_position": {},
   "toc_section_display": "block",
   "toc_window_display": true
  }
 },
 "nbformat": 4,
 "nbformat_minor": 2
}
